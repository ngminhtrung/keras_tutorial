{
 "cells": [
  {
   "cell_type": "markdown",
   "metadata": {},
   "source": [
    "# Text classification with movie reviews"
   ]
  },
  {
   "cell_type": "markdown",
   "metadata": {},
   "source": [
    "Notebook này sẽ phân loại các nhận xét phim (chứa trong một tập dữ liệu) vào 1 trong 2 loại \"*tích cực*\" hoặc \"*tiêu cực*\". \n",
    "\n",
    "Đây là một ví dụ của phân loại nhị phân, hoặc phân loại 2 lớp (*binary—or two-class—classification*), vốn quan trọng và được sử dụng rộng rãi trong machine learning."
   ]
  },
  {
   "cell_type": "markdown",
   "metadata": {},
   "source": [
    "Chúng ta sẽ dùng tập dữ liệu của [IMDB](https://www.tensorflow.org/api_docs/python/tf/keras/datasets/imdb) chứa 50,000 nhận xét về các bộ phim. Tập dữ liệu này được chia làm 2 phần, 25,000 reviews cho training, và 25,000 reviews cho testing. \n",
    "\n",
    "Tập training và testing được tạo một cách đồng đều, nghĩa là số lượng nhận xét tích cực và tiêu cực ở hai bên là như nhau."
   ]
  },
  {
   "cell_type": "code",
   "execution_count": 1,
   "metadata": {},
   "outputs": [
    {
     "name": "stdout",
     "output_type": "stream",
     "text": [
      "1.10.0\n"
     ]
    }
   ],
   "source": [
    "import tensorflow as tf\n",
    "from tensorflow import keras\n",
    "\n",
    "import numpy as np\n",
    "\n",
    "print(tf.__version__)"
   ]
  },
  {
   "cell_type": "markdown",
   "metadata": {},
   "source": [
    "## Download the IMDB dataset"
   ]
  },
  {
   "cell_type": "markdown",
   "metadata": {},
   "source": [
    "The IMDB dataset comes packaged with TensorFlow. It has already been preprocessed such that the reviews (sequences of words) have been converted to sequences of integers, where each integer represents a specific word in a dictionary.\n",
    "\n",
    "The following code downloads the IMDB dataset to your machine (or uses a cached copy if you've already downloaded it):"
   ]
  },
  {
   "cell_type": "code",
   "execution_count": 2,
   "metadata": {},
   "outputs": [],
   "source": [
    "imdb = keras.datasets.imdb\n",
    "\n",
    "(train_data, train_labels), (test_data, test_labels) = imdb.load_data(num_words = 10000)"
   ]
  },
  {
   "cell_type": "markdown",
   "metadata": {},
   "source": [
    "The argument num_words=10000 keeps the top 10,000 most frequently occurring words in the training data. The rare words are discarded to keep the size of the data manageable."
   ]
  },
  {
   "cell_type": "markdown",
   "metadata": {},
   "source": [
    "## Explore the data"
   ]
  },
  {
   "cell_type": "markdown",
   "metadata": {},
   "source": [
    "Let's take a moment to understand the format of the data. The dataset comes preprocessed: each example is an array of integers representing the words of the movie review. Each label is an integer value of either 0 or 1, where 0 is a negative review, and 1 is a positive review."
   ]
  },
  {
   "cell_type": "code",
   "execution_count": 3,
   "metadata": {},
   "outputs": [
    {
     "name": "stdout",
     "output_type": "stream",
     "text": [
      "Training entries: 25000, labels: 25000\n"
     ]
    }
   ],
   "source": [
    "print(\"Training entries: {}, labels: {}\".format(len(train_data), len(train_labels)))"
   ]
  },
  {
   "cell_type": "markdown",
   "metadata": {},
   "source": [
    "The text of reviews have been converted to integers, where each integer represents a specific word in a dictionary. Here's what the first review looks like:"
   ]
  },
  {
   "cell_type": "code",
   "execution_count": 4,
   "metadata": {},
   "outputs": [
    {
     "name": "stdout",
     "output_type": "stream",
     "text": [
      "[1, 14, 22, 16, 43, 530, 973, 1622, 1385, 65, 458, 4468, 66, 3941, 4, 173, 36, 256, 5, 25, 100, 43, 838, 112, 50, 670, 2, 9, 35, 480, 284, 5, 150, 4, 172, 112, 167, 2, 336, 385, 39, 4, 172, 4536, 1111, 17, 546, 38, 13, 447, 4, 192, 50, 16, 6, 147, 2025, 19, 14, 22, 4, 1920, 4613, 469, 4, 22, 71, 87, 12, 16, 43, 530, 38, 76, 15, 13, 1247, 4, 22, 17, 515, 17, 12, 16, 626, 18, 2, 5, 62, 386, 12, 8, 316, 8, 106, 5, 4, 2223, 5244, 16, 480, 66, 3785, 33, 4, 130, 12, 16, 38, 619, 5, 25, 124, 51, 36, 135, 48, 25, 1415, 33, 6, 22, 12, 215, 28, 77, 52, 5, 14, 407, 16, 82, 2, 8, 4, 107, 117, 5952, 15, 256, 4, 2, 7, 3766, 5, 723, 36, 71, 43, 530, 476, 26, 400, 317, 46, 7, 4, 2, 1029, 13, 104, 88, 4, 381, 15, 297, 98, 32, 2071, 56, 26, 141, 6, 194, 7486, 18, 4, 226, 22, 21, 134, 476, 26, 480, 5, 144, 30, 5535, 18, 51, 36, 28, 224, 92, 25, 104, 4, 226, 65, 16, 38, 1334, 88, 12, 16, 283, 5, 16, 4472, 113, 103, 32, 15, 16, 5345, 19, 178, 32]\n"
     ]
    }
   ],
   "source": [
    "print(train_data[0])"
   ]
  },
  {
   "cell_type": "code",
   "execution_count": 5,
   "metadata": {},
   "outputs": [
    {
     "data": {
      "text/plain": [
       "(218, 189)"
      ]
     },
     "execution_count": 5,
     "metadata": {},
     "output_type": "execute_result"
    }
   ],
   "source": [
    "len(train_data[0]), len(train_data[1])"
   ]
  },
  {
   "cell_type": "markdown",
   "metadata": {},
   "source": [
    "Do độ dài từng câu trong train_data khác nhau, nên khi gọi ```train_data.shape``` sẽ trả về (25000,). Điều này nghĩa là train_data có tổng cộng 25000 câu (dimension thứ 1), còn dimension thứ 2 không xác định (ứng với độ dài từng câu). "
   ]
  },
  {
   "cell_type": "code",
   "execution_count": 6,
   "metadata": {},
   "outputs": [
    {
     "data": {
      "text/plain": [
       "(25000,)"
      ]
     },
     "execution_count": 6,
     "metadata": {},
     "output_type": "execute_result"
    }
   ],
   "source": [
    "train_data.shape"
   ]
  },
  {
   "cell_type": "markdown",
   "metadata": {},
   "source": [
    "### Convert the integers back to words"
   ]
  },
  {
   "cell_type": "markdown",
   "metadata": {},
   "source": [
    "It may be useful to know how to convert integers back to text. Here, we'll create a helper function to query a dictionary object that contains the integer to string mapping:"
   ]
  },
  {
   "cell_type": "code",
   "execution_count": 7,
   "metadata": {},
   "outputs": [],
   "source": [
    "# A dictionary mapping words to an integer index\n",
    "word_index = imdb.get_word_index()\n",
    "\n",
    "# The first indices are reserved\n",
    "word_index = {k:(v+3) for k,v in word_index.items()} \n",
    "word_index[\"<PAD>\"] = 0\n",
    "word_index[\"<START>\"] = 1\n",
    "word_index[\"<UNK>\"] = 2  # unknown\n",
    "word_index[\"<UNUSED>\"] = 3\n",
    "\n",
    "reverse_word_index = dict([(value, key) for (key, value) in word_index.items()])\n",
    "\n",
    "def decode_review(text):\n",
    "    return ' '.join([reverse_word_index.get(i, '?') for i in text])"
   ]
  },
  {
   "cell_type": "code",
   "execution_count": 8,
   "metadata": {},
   "outputs": [
    {
     "data": {
      "text/plain": [
       "\"<START> this film was just brilliant casting location scenery story direction everyone's really suited the part they played and you could just imagine being there robert <UNK> is an amazing actor and now the same being director <UNK> father came from the same scottish island as myself so i loved the fact there was a real connection with this film the witty remarks throughout the film were great it was just brilliant so much that i bought the film as soon as it was released for <UNK> and would recommend it to everyone to watch and the fly fishing was amazing really cried at the end it was so sad and you know what they say if you cry at a film it must have been good and this definitely was also <UNK> to the two little boy's that played the <UNK> of norman and paul they were just brilliant children are often left out of the <UNK> list i think because the stars that play them all grown up are such a big profile for the whole film but these children are amazing and should be praised for what they have done don't you think the whole story was so lovely because it was true and was someone's life after all that was shared with us all\""
      ]
     },
     "execution_count": 8,
     "metadata": {},
     "output_type": "execute_result"
    }
   ],
   "source": [
    "decode_review(train_data[0])"
   ]
  },
  {
   "cell_type": "markdown",
   "metadata": {},
   "source": [
    "## Prepare the data"
   ]
  },
  {
   "cell_type": "markdown",
   "metadata": {},
   "source": [
    "Những reviews - vốn là những array chứa số integers, cần phải được chuyển thành \"tensors\" trước khi đẩy vào neural network. Việc chuyển đổi có thể thực hiện thông qua một trong những cách sau:\n",
    "\n",
    "- Sử dụng one-hot-encode để chuyển array thành những vectors của 0 và . Ví dụ: chuỗi [3, 5] sẽ trở thành một vector 10,000 chiều với mọi phần tử đều bằng 0 trừ indices 3 và 5 (bằng 1). Đây sẽ trở thành layer thứ 1 trong network, layer dạng \"Dense\", có thể xử lý các data dạng \"floating point vector\". Cách này đòi nhiều bộ nhớ vì cần một ma trận kích thước num_words * num_reviews \n",
    "- Một cách khác, ta có thể chèn vào arrays sao cho chúng có đội dài tương tự nhau, sao đó tạo một integer tensor có kích thước max_length x num_reviews. We can use an embedding layer capable of handling this shape as the first layer in our network."
   ]
  },
  {
   "cell_type": "markdown",
   "metadata": {},
   "source": [
    "Tutorial này sử dụng cách tiếp cận thứ 2. "
   ]
  },
  {
   "cell_type": "code",
   "execution_count": 9,
   "metadata": {},
   "outputs": [],
   "source": [
    "train_data = keras.preprocessing.sequence.pad_sequences(train_data,\n",
    "                                                       value= word_index[\"<PAD>\"],\n",
    "                                                       padding = 'post',\n",
    "                                                       maxlen = 256)\n",
    "test_data = keras.preprocessing.sequence.pad_sequences(test_data,\n",
    "                                                       value= word_index[\"<PAD>\"],\n",
    "                                                       padding = 'post',\n",
    "                                                       maxlen = 256)"
   ]
  },
  {
   "cell_type": "markdown",
   "metadata": {},
   "source": [
    "Lúc này mỗi câu trong train_data đều có đủ 256 phần tử (ứng với ký tự PAD). Do vậy khi gọi ```train_data.shape```, thì kết quả trả về (25000, 256) thay vì (25000,)"
   ]
  },
  {
   "cell_type": "code",
   "execution_count": 10,
   "metadata": {},
   "outputs": [
    {
     "data": {
      "text/plain": [
       "(25000, 256)"
      ]
     },
     "execution_count": 10,
     "metadata": {},
     "output_type": "execute_result"
    }
   ],
   "source": [
    "train_data.shape"
   ]
  },
  {
   "cell_type": "code",
   "execution_count": 11,
   "metadata": {},
   "outputs": [
    {
     "data": {
      "text/plain": [
       "25000"
      ]
     },
     "execution_count": 11,
     "metadata": {},
     "output_type": "execute_result"
    }
   ],
   "source": [
    "len(train_data)"
   ]
  },
  {
   "cell_type": "code",
   "execution_count": 12,
   "metadata": {},
   "outputs": [
    {
     "data": {
      "text/plain": [
       "256"
      ]
     },
     "execution_count": 12,
     "metadata": {},
     "output_type": "execute_result"
    }
   ],
   "source": [
    "len(train_data[0])"
   ]
  },
  {
   "cell_type": "code",
   "execution_count": 13,
   "metadata": {},
   "outputs": [
    {
     "data": {
      "text/plain": [
       "array([   1,   14,   22,   16,   43,  530,  973, 1622, 1385,   65,  458,\n",
       "       4468,   66, 3941,    4,  173,   36,  256,    5,   25,  100,   43,\n",
       "        838,  112,   50,  670,    2,    9,   35,  480,  284,    5,  150,\n",
       "          4,  172,  112,  167,    2,  336,  385,   39,    4,  172, 4536,\n",
       "       1111,   17,  546,   38,   13,  447,    4,  192,   50,   16,    6,\n",
       "        147, 2025,   19,   14,   22,    4, 1920, 4613,  469,    4,   22,\n",
       "         71,   87,   12,   16,   43,  530,   38,   76,   15,   13, 1247,\n",
       "          4,   22,   17,  515,   17,   12,   16,  626,   18,    2,    5,\n",
       "         62,  386,   12,    8,  316,    8,  106,    5,    4, 2223, 5244,\n",
       "         16,  480,   66, 3785,   33,    4,  130,   12,   16,   38,  619,\n",
       "          5,   25,  124,   51,   36,  135,   48,   25, 1415,   33,    6,\n",
       "         22,   12,  215,   28,   77,   52,    5,   14,  407,   16,   82,\n",
       "          2,    8,    4,  107,  117, 5952,   15,  256,    4,    2,    7,\n",
       "       3766,    5,  723,   36,   71,   43,  530,  476,   26,  400,  317,\n",
       "         46,    7,    4,    2, 1029,   13,  104,   88,    4,  381,   15,\n",
       "        297,   98,   32, 2071,   56,   26,  141,    6,  194, 7486,   18,\n",
       "          4,  226,   22,   21,  134,  476,   26,  480,    5,  144,   30,\n",
       "       5535,   18,   51,   36,   28,  224,   92,   25,  104,    4,  226,\n",
       "         65,   16,   38, 1334,   88,   12,   16,  283,    5,   16, 4472,\n",
       "        113,  103,   32,   15,   16, 5345,   19,  178,   32,    0,    0,\n",
       "          0,    0,    0,    0,    0,    0,    0,    0,    0,    0,    0,\n",
       "          0,    0,    0,    0,    0,    0,    0,    0,    0,    0,    0,\n",
       "          0,    0,    0,    0,    0,    0,    0,    0,    0,    0,    0,\n",
       "          0,    0,    0])"
      ]
     },
     "execution_count": 13,
     "metadata": {},
     "output_type": "execute_result"
    }
   ],
   "source": [
    "train_data[0]"
   ]
  },
  {
   "cell_type": "markdown",
   "metadata": {},
   "source": [
    "## Build the model"
   ]
  },
  {
   "cell_type": "markdown",
   "metadata": {},
   "source": [
    "Neural network được tạo ra nhờ việc ghép nối các layers - nghĩa là cần xác định 2 điều:\n",
    "- Cần dùng bao nhiêu layer?\n",
    "- Cần dùng bao nhiêu \"hidden unit\" với mỗi layer? \n",
    "\n",
    "Trong ví dụ này, input data chứa một mảng những word-indices. Label để dự đoán là 0 hoặc 1. "
   ]
  },
  {
   "cell_type": "code",
   "execution_count": 14,
   "metadata": {},
   "outputs": [
    {
     "name": "stdout",
     "output_type": "stream",
     "text": [
      "_________________________________________________________________\n",
      "Layer (type)                 Output Shape              Param #   \n",
      "=================================================================\n",
      "embedding (Embedding)        (None, None, 16)          160000    \n",
      "_________________________________________________________________\n",
      "global_average_pooling1d (Gl (None, 16)                0         \n",
      "_________________________________________________________________\n",
      "dense (Dense)                (None, 16)                272       \n",
      "_________________________________________________________________\n",
      "dense_1 (Dense)              (None, 1)                 17        \n",
      "=================================================================\n",
      "Total params: 160,289\n",
      "Trainable params: 160,289\n",
      "Non-trainable params: 0\n",
      "_________________________________________________________________\n"
     ]
    }
   ],
   "source": [
    "# input shape is the vocabulary count used for the movie reviews (10,000 words)\n",
    "\n",
    "vocab_size = 10000\n",
    "\n",
    "model = keras.Sequential()\n",
    "model.add(keras.layers.Embedding(vocab_size, 16))\n",
    "model.add(keras.layers.GlobalAveragePooling1D())\n",
    "model.add(keras.layers.Dense(16, activation=tf.nn.relu))\n",
    "model.add(keras.layers.Dense(1, activation=tf.nn.sigmoid))\n",
    "\n",
    "model.summary()"
   ]
  },
  {
   "cell_type": "markdown",
   "metadata": {},
   "source": [
    "Các layer được xếp chồng theo dãy để xây bộ phân loại:\n",
    "\n",
    "- Layer đầu tiên thuộc dạng **Embedding**: Nhận đầu vào là một integer-encoded vocabulary, sau đó tìm kiếm embedding vector cho mõi word-index. Những vector này được cập nhật (được học) khi model được trained. Vector này thêm một chiều vào output array. Kết quả đầu ra có dimensions là: (batch, sequence, embedding).\n",
    "- Layer thứ hai là dạng **GlobalAveragePooling1D** trả vể một vector có độ dài cố địch cho mỗi example bằng averaging over the sequence dimension. This allows the model can handle input of variable length, in the simplest way possible.\n",
    "- This fixed-length output vector is piped through a fully-connected (Dense) layer with 16 hidden units.\n",
    "- The last layer is densely connected with a single output node. Using the sigmoid activation function, this value is a float between 0 and 1, representing a probability, or confidence level."
   ]
  },
  {
   "cell_type": "markdown",
   "metadata": {},
   "source": [
    "### Hidden units"
   ]
  },
  {
   "cell_type": "markdown",
   "metadata": {},
   "source": [
    "Model trên có 2 layer trung gian, hay còn gọi là layer \"ẩn\".  Số lượng output (units/ nodes/ neurons) là dimension của the representational space for the layer. In other words, the amount of freedom the network is allowed when learning an internal representation.\n",
    "\n",
    "If a model has more hidden units (a higher-dimensional representation space), and/or more layers, then the network can learn more complex representations. However, it makes the network more computationally expensive and may lead to learning unwanted patterns—patterns that improve performance on training data but not on the test data. This is called overfitting, and we'll explore it later."
   ]
  },
  {
   "cell_type": "markdown",
   "metadata": {},
   "source": [
    "### Loss function and optimizer"
   ]
  },
  {
   "cell_type": "markdown",
   "metadata": {},
   "source": [
    "Mỗi model đều cần:\n",
    "- một loss function\n",
    "- một optimizer \n",
    "cho quá trình training.\n",
    "\n",
    "Bởi ta đang xử lý việc phân loại hai lớp, và mô hình sẽ trả về kết quả là xác suất (một single-unit layer với sigmoid activation), ta sẽ dùng hàm loss function là **binary_crossentropy**.\n",
    "\n",
    "Đây không phải là lựa chọn duy nhất cho loss function, ta có thể chọn **mean_squared_error** chẳng hạn. Tuy nhiên, **binary_crossentropy** thường tốt hơn cho các vấn đề liên quan đến xác suất, nó đo \"khoảng cách\" từ giữa các phân bố xác suất, hoặc trong trường hợp này, là giữa ground-truth distribution and the predictions.\n",
    "\n",
    "Sau này, khi ta tìm hiểu về các vấn đề liên quan đến regression (ví dụ dự đoán giá nhà), ta sẽ xem cách sử dụng mean squared error.\n",
    "\n",
    "Now, configure the model to use an optimizer and a loss function:"
   ]
  },
  {
   "cell_type": "code",
   "execution_count": 16,
   "metadata": {},
   "outputs": [],
   "source": [
    "model.compile(optimizer=tf.train.AdamOptimizer(),\n",
    "             loss='binary_crossentropy',\n",
    "             metrics=['accuracy'])"
   ]
  },
  {
   "cell_type": "markdown",
   "metadata": {},
   "source": [
    "## Create a validation set"
   ]
  },
  {
   "cell_type": "markdown",
   "metadata": {},
   "source": [
    "When training, we want to check the accuracy of the model on data it hasn't seen before. Create a validation set by setting apart 10,000 examples from the original training data. (Tại sao không dùng tập test luôn? Bởi mục đích của ta là phát triển, và tinh chỉnh model chỉ sử dụng training data, sau đó dùng test data một lần duy nhất để đánh giá độ chính xác).\n"
   ]
  },
  {
   "cell_type": "code",
   "execution_count": 17,
   "metadata": {},
   "outputs": [],
   "source": [
    "x_val = train_data[:10000]\n",
    "partial_x_train = train_data[10000:]\n",
    "\n",
    "y_val = train_labels[:10000]\n",
    "partial_y_train = train_labels[10000:]"
   ]
  },
  {
   "cell_type": "markdown",
   "metadata": {},
   "source": [
    "## Train the model"
   ]
  },
  {
   "cell_type": "markdown",
   "metadata": {},
   "source": [
    "Train the model for 40 epochs in mini-batches of 512 samples. This is 40 iterations over all samples in the x_train and y_train tensors. While training, monitor the model's loss and accuracy on the 10,000 samples from the validation set:"
   ]
  },
  {
   "cell_type": "code",
   "execution_count": 18,
   "metadata": {},
   "outputs": [
    {
     "name": "stdout",
     "output_type": "stream",
     "text": [
      "Train on 15000 samples, validate on 10000 samples\n",
      "Epoch 1/40\n",
      "15000/15000 [==============================] - 3s 183us/step - loss: 0.7073 - acc: 0.5035 - val_loss: 0.6965 - val_acc: 0.4947\n",
      "Epoch 2/40\n",
      "15000/15000 [==============================] - 2s 138us/step - loss: 0.6933 - acc: 0.5043 - val_loss: 0.6928 - val_acc: 0.5036\n",
      "Epoch 3/40\n",
      "15000/15000 [==============================] - 2s 137us/step - loss: 0.6921 - acc: 0.5386 - val_loss: 0.6921 - val_acc: 0.5032\n",
      "Epoch 4/40\n",
      "15000/15000 [==============================] - 2s 139us/step - loss: 0.6913 - acc: 0.5592 - val_loss: 0.6912 - val_acc: 0.5277\n",
      "Epoch 5/40\n",
      "15000/15000 [==============================] - 2s 147us/step - loss: 0.6903 - acc: 0.5186 - val_loss: 0.6903 - val_acc: 0.5179\n",
      "Epoch 6/40\n",
      "15000/15000 [==============================] - 2s 142us/step - loss: 0.6892 - acc: 0.5768 - val_loss: 0.6890 - val_acc: 0.5758\n",
      "Epoch 7/40\n",
      "15000/15000 [==============================] - 2s 135us/step - loss: 0.6876 - acc: 0.6160 - val_loss: 0.6875 - val_acc: 0.5444\n",
      "Epoch 8/40\n",
      "15000/15000 [==============================] - 2s 136us/step - loss: 0.6853 - acc: 0.6222 - val_loss: 0.6849 - val_acc: 0.5906\n",
      "Epoch 9/40\n",
      "15000/15000 [==============================] - 2s 138us/step - loss: 0.6819 - acc: 0.6605 - val_loss: 0.6809 - val_acc: 0.6518\n",
      "Epoch 10/40\n",
      "15000/15000 [==============================] - 2s 143us/step - loss: 0.6763 - acc: 0.6935 - val_loss: 0.6746 - val_acc: 0.7171\n",
      "Epoch 11/40\n",
      "15000/15000 [==============================] - 2s 142us/step - loss: 0.6680 - acc: 0.7211 - val_loss: 0.6651 - val_acc: 0.7202\n",
      "Epoch 12/40\n",
      "15000/15000 [==============================] - 2s 144us/step - loss: 0.6551 - acc: 0.7397 - val_loss: 0.6511 - val_acc: 0.7431\n",
      "Epoch 13/40\n",
      "15000/15000 [==============================] - 2s 154us/step - loss: 0.6371 - acc: 0.7639 - val_loss: 0.6337 - val_acc: 0.7359\n",
      "Epoch 14/40\n",
      "15000/15000 [==============================] - 2s 149us/step - loss: 0.6144 - acc: 0.7787 - val_loss: 0.6100 - val_acc: 0.7686\n",
      "Epoch 15/40\n",
      "15000/15000 [==============================] - 2s 146us/step - loss: 0.5868 - acc: 0.7931 - val_loss: 0.5826 - val_acc: 0.7855\n",
      "Epoch 16/40\n",
      "15000/15000 [==============================] - 2s 149us/step - loss: 0.5564 - acc: 0.8039 - val_loss: 0.5543 - val_acc: 0.7943\n",
      "Epoch 17/40\n",
      "15000/15000 [==============================] - 2s 142us/step - loss: 0.5241 - acc: 0.8212 - val_loss: 0.5256 - val_acc: 0.8093\n",
      "Epoch 18/40\n",
      "15000/15000 [==============================] - 2s 142us/step - loss: 0.4922 - acc: 0.8345 - val_loss: 0.4971 - val_acc: 0.8188\n",
      "Epoch 19/40\n",
      "15000/15000 [==============================] - 2s 141us/step - loss: 0.4615 - acc: 0.8445 - val_loss: 0.4706 - val_acc: 0.8269\n",
      "Epoch 20/40\n",
      "15000/15000 [==============================] - 2s 142us/step - loss: 0.4332 - acc: 0.8560 - val_loss: 0.4466 - val_acc: 0.8360\n",
      "Epoch 21/40\n",
      "15000/15000 [==============================] - 2s 142us/step - loss: 0.4069 - acc: 0.8653 - val_loss: 0.4250 - val_acc: 0.8434\n",
      "Epoch 22/40\n",
      "15000/15000 [==============================] - 2s 140us/step - loss: 0.3837 - acc: 0.8717 - val_loss: 0.4063 - val_acc: 0.8488\n",
      "Epoch 23/40\n",
      "15000/15000 [==============================] - 2s 147us/step - loss: 0.3635 - acc: 0.8781 - val_loss: 0.3904 - val_acc: 0.8533\n",
      "Epoch 24/40\n",
      "15000/15000 [==============================] - 3s 231us/step - loss: 0.3452 - acc: 0.8838 - val_loss: 0.3765 - val_acc: 0.8578\n",
      "Epoch 25/40\n",
      "15000/15000 [==============================] - 4s 286us/step - loss: 0.3294 - acc: 0.8888 - val_loss: 0.3647 - val_acc: 0.8621\n",
      "Epoch 26/40\n",
      "15000/15000 [==============================] - 4s 268us/step - loss: 0.3153 - acc: 0.8920 - val_loss: 0.3547 - val_acc: 0.8658\n",
      "Epoch 27/40\n",
      "15000/15000 [==============================] - 3s 206us/step - loss: 0.3031 - acc: 0.8951 - val_loss: 0.3458 - val_acc: 0.8688\n",
      "Epoch 28/40\n",
      "15000/15000 [==============================] - 3s 207us/step - loss: 0.2916 - acc: 0.8987 - val_loss: 0.3384 - val_acc: 0.8706\n",
      "Epoch 29/40\n",
      "15000/15000 [==============================] - 3s 213us/step - loss: 0.2815 - acc: 0.9015 - val_loss: 0.3322 - val_acc: 0.8701\n",
      "Epoch 30/40\n",
      "15000/15000 [==============================] - 3s 215us/step - loss: 0.2729 - acc: 0.9021 - val_loss: 0.3264 - val_acc: 0.8727\n",
      "Epoch 31/40\n",
      "15000/15000 [==============================] - 3s 191us/step - loss: 0.2638 - acc: 0.9075 - val_loss: 0.3216 - val_acc: 0.8742\n",
      "Epoch 32/40\n",
      "15000/15000 [==============================] - 3s 168us/step - loss: 0.2565 - acc: 0.9087 - val_loss: 0.3173 - val_acc: 0.8758\n",
      "Epoch 33/40\n",
      "15000/15000 [==============================] - 2s 155us/step - loss: 0.2487 - acc: 0.9125 - val_loss: 0.3136 - val_acc: 0.8783\n",
      "Epoch 34/40\n",
      "15000/15000 [==============================] - 3s 171us/step - loss: 0.2419 - acc: 0.9143 - val_loss: 0.3101 - val_acc: 0.8789\n",
      "Epoch 35/40\n",
      "15000/15000 [==============================] - 2s 161us/step - loss: 0.2358 - acc: 0.9158 - val_loss: 0.3071 - val_acc: 0.8810\n",
      "Epoch 36/40\n",
      "15000/15000 [==============================] - 3s 184us/step - loss: 0.2293 - acc: 0.9190 - val_loss: 0.3046 - val_acc: 0.8814\n",
      "Epoch 37/40\n",
      "15000/15000 [==============================] - 3s 233us/step - loss: 0.2236 - acc: 0.9213 - val_loss: 0.3025 - val_acc: 0.8811\n",
      "Epoch 38/40\n",
      "15000/15000 [==============================] - 3s 228us/step - loss: 0.2182 - acc: 0.9226 - val_loss: 0.2997 - val_acc: 0.8816\n",
      "Epoch 39/40\n",
      "15000/15000 [==============================] - 3s 206us/step - loss: 0.2126 - acc: 0.9255 - val_loss: 0.2980 - val_acc: 0.8823\n",
      "Epoch 40/40\n",
      "15000/15000 [==============================] - 3s 180us/step - loss: 0.2076 - acc: 0.9266 - val_loss: 0.2960 - val_acc: 0.8840\n"
     ]
    }
   ],
   "source": [
    "history = model.fit(partial_x_train,\n",
    "                   partial_y_train,\n",
    "                   epochs = 40,\n",
    "                   batch_size = 512,\n",
    "                   validation_data = (x_val, y_val),\n",
    "                   verbose = 1)"
   ]
  },
  {
   "cell_type": "markdown",
   "metadata": {},
   "source": [
    "## Evaluate the model"
   ]
  },
  {
   "cell_type": "markdown",
   "metadata": {},
   "source": [
    "And let's see how the model performs. Two values will be returned:\n",
    "- Loss (a number which represents our error, lower values are better), and \n",
    "- accuracy."
   ]
  },
  {
   "cell_type": "code",
   "execution_count": 19,
   "metadata": {},
   "outputs": [
    {
     "name": "stdout",
     "output_type": "stream",
     "text": [
      "25000/25000 [==============================] - 1s 37us/step\n",
      "[0.30980241351127624, 0.873]\n"
     ]
    }
   ],
   "source": [
    "results = model.evaluate(test_data, test_labels)\n",
    "print(results)"
   ]
  },
  {
   "cell_type": "markdown",
   "metadata": {},
   "source": [
    "This fairly naive approach achieves an accuracy of about 87%. WIth more advanced approaches, the model should get closer to 95%."
   ]
  },
  {
   "cell_type": "markdown",
   "metadata": {},
   "source": [
    "## Create a graph of accuracy and loss over time"
   ]
  },
  {
   "cell_type": "markdown",
   "metadata": {},
   "source": [
    "**model.fit()** returns a **History** object that contains a dictionary with everything that happened during training:"
   ]
  },
  {
   "cell_type": "code",
   "execution_count": 20,
   "metadata": {},
   "outputs": [
    {
     "data": {
      "text/plain": [
       "dict_keys(['val_loss', 'val_acc', 'loss', 'acc'])"
      ]
     },
     "execution_count": 20,
     "metadata": {},
     "output_type": "execute_result"
    }
   ],
   "source": [
    "history_dict = history.history\n",
    "history_dict.keys()"
   ]
  },
  {
   "cell_type": "markdown",
   "metadata": {},
   "source": [
    "There are four entries: one for each monitored metric during training and validation. We can use these to plot the training and validation loss for comparison, as well as the training and validation accuracy:\n",
    "\n"
   ]
  },
  {
   "cell_type": "code",
   "execution_count": 22,
   "metadata": {},
   "outputs": [
    {
     "data": {
      "image/png": "[encoded data removed]",
      "text/plain": [
       "<Figure size 432x288 with 1 Axes>"
      ]
     },
     "metadata": {},
     "output_type": "display_data"
    }
   ],
   "source": [
    "import matplotlib.pyplot as plt\n",
    "\n",
    "acc = history.history['acc']\n",
    "val_acc = history.history['val_acc']\n",
    "loss = history.history['loss']\n",
    "val_loss = history.history['val_loss']\n",
    "\n",
    "epochs = range(1, len(acc) + 1)\n",
    "\n",
    "# \"bo\" is for the \"blue dot\"\n",
    "plt.plot(epochs, loss, 'bo', label='Training loss')\n",
    "# \"b\" is for \"solid blue line\"\n",
    "plt.plot(epochs, val_loss, 'b', label='Validation loss')\n",
    "plt.title('Training and validation loss')\n",
    "plt.xlabel('Epochs')\n",
    "plt.ylabel('Loss')\n",
    "plt.legend()\n",
    "\n",
    "plt.show()"
   ]
  },
  {
   "cell_type": "code",
   "execution_count": 23,
   "metadata": {},
   "outputs": [
    {
     "data": {
      "image/png": "[encoded data removed]",
      "text/plain": [
       "<Figure size 432x288 with 1 Axes>"
      ]
     },
     "metadata": {},
     "output_type": "display_data"
    }
   ],
   "source": [
    "plt.clf() # clear figure\n",
    "acc_values = history_dict['acc']\n",
    "val_acc_values = history_dict['val_acc']\n",
    "\n",
    "plt.plot(epochs, acc, 'bo', label='Training acc')\n",
    "plt.plot(epochs, val_acc, 'b', label='Validation acc')\n",
    "plt.title('Training and validation accuracy')\n",
    "plt.xlabel('Epochs')\n",
    "plt.ylabel('Accuracy')\n",
    "plt.legend()\n",
    "\n",
    "plt.show()"
   ]
  },
  {
   "cell_type": "markdown",
   "metadata": {},
   "source": [
    "In this plot, the dots represent the training loss and accuracy, and the solid lines are the validation loss and accuracy.\n",
    "\n",
    "Notice the training loss decreases with each epoch and the training accuracy increases with each epoch. This is expected when using a gradient descent optimization—it should minimize the desired quantity on every iteration.\n",
    "\n",
    "This isn't the case for the validation loss and accuracy—they seem to peak after about twenty epochs. This is an example of overfitting: the model performs better on the training data than it does on data it has never seen before. After this point, the model over-optimizes and learns representations specific to the training data that do not generalize to test data.\n",
    "\n",
    "For this particular case, we could prevent overfitting by simply stopping the training after twenty or so epochs. Later, you'll see how to do this automatically with a callback.\n",
    "\n"
   ]
  },
  {
   "cell_type": "code",
   "execution_count": null,
   "metadata": {},
   "outputs": [],
   "source": []
  }
 ],
 "metadata": {
  "kernelspec": {
   "display_name": "Python 3",
   "language": "python",
   "name": "python3"
  },
  "language_info": {
   "codemirror_mode": {
    "name": "ipython",
    "version": 3
   },
   "file_extension": ".py",
   "mimetype": "text/x-python",
   "name": "python",
   "nbconvert_exporter": "python",
   "pygments_lexer": "ipython3",
   "version": "3.6.5"
  }
 },
 "nbformat": 4,
 "nbformat_minor": 2
}
