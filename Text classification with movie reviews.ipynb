{
 "cells": [
  {
   "cell_type": "markdown",
   "metadata": {},
   "source": [
    "# Text classification with movie reviews"
   ]
  },
  {
   "cell_type": "markdown",
   "metadata": {},
   "source": [
    "https://www.tensorflow.org/tutorials/keras/basic_text_classification"
   ]
  },
  {
   "cell_type": "code",
   "execution_count": 1,
   "metadata": {},
   "outputs": [],
   "source": [
    "import tensorflow as tf\n",
    "from tensorflow import keras\n",
    "\n",
    "import numpy as np"
   ]
  },
  {
   "cell_type": "code",
   "execution_count": 2,
   "metadata": {},
   "outputs": [],
   "source": [
    "imdb = keras.datasets.imdb\n",
    "\n",
    "(train_data, train_labels), (test_data, test_labels) = imdb.load_data(num_words=10000)"
   ]
  },
  {
   "cell_type": "code",
   "execution_count": 3,
   "metadata": {},
   "outputs": [
    {
     "name": "stdout",
     "output_type": "stream",
     "text": [
      "Training entries: 25000, labels: 25000\n"
     ]
    }
   ],
   "source": [
    "print(\"Training entries: {}, labels: {}\".format(len(train_data), len(train_labels)))\n"
   ]
  },
  {
   "cell_type": "code",
   "execution_count": 4,
   "metadata": {},
   "outputs": [
    {
     "name": "stdout",
     "output_type": "stream",
     "text": [
      "[1, 14, 22, 16, 43, 530, 973, 1622, 1385, 65, 458, 4468, 66, 3941, 4, 173, 36, 256, 5, 25, 100, 43, 838, 112, 50, 670, 2, 9, 35, 480, 284, 5, 150, 4, 172, 112, 167, 2, 336, 385, 39, 4, 172, 4536, 1111, 17, 546, 38, 13, 447, 4, 192, 50, 16, 6, 147, 2025, 19, 14, 22, 4, 1920, 4613, 469, 4, 22, 71, 87, 12, 16, 43, 530, 38, 76, 15, 13, 1247, 4, 22, 17, 515, 17, 12, 16, 626, 18, 2, 5, 62, 386, 12, 8, 316, 8, 106, 5, 4, 2223, 5244, 16, 480, 66, 3785, 33, 4, 130, 12, 16, 38, 619, 5, 25, 124, 51, 36, 135, 48, 25, 1415, 33, 6, 22, 12, 215, 28, 77, 52, 5, 14, 407, 16, 82, 2, 8, 4, 107, 117, 5952, 15, 256, 4, 2, 7, 3766, 5, 723, 36, 71, 43, 530, 476, 26, 400, 317, 46, 7, 4, 2, 1029, 13, 104, 88, 4, 381, 15, 297, 98, 32, 2071, 56, 26, 141, 6, 194, 7486, 18, 4, 226, 22, 21, 134, 476, 26, 480, 5, 144, 30, 5535, 18, 51, 36, 28, 224, 92, 25, 104, 4, 226, 65, 16, 38, 1334, 88, 12, 16, 283, 5, 16, 4472, 113, 103, 32, 15, 16, 5345, 19, 178, 32]\n"
     ]
    }
   ],
   "source": [
    "print(train_data[0])"
   ]
  },
  {
   "cell_type": "code",
   "execution_count": 5,
   "metadata": {},
   "outputs": [],
   "source": [
    "# A dictionary mapping words to an integer index\n",
    "word_index = imdb.get_word_index()\n",
    "\n",
    "# The first indices are reserved\n",
    "word_index = {k:(v+3) for k,v in word_index.items()}\n",
    "word_index[\"<PAD>\"] = 0\n",
    "word_index[\"<START>\"] = 1\n",
    "word_index[\"<UNK>\"] = 2  # unknown\n",
    "word_index[\"<UNUSED>\"] = 3\n",
    "\n",
    "reverse_word_index = dict([(value, key) for (key, value) in word_index.items()])\n",
    "\n",
    "def decode_review(text):\n",
    "    return ' '.join([reverse_word_index.get(i, '?') for i in text])"
   ]
  },
  {
   "cell_type": "code",
   "execution_count": 6,
   "metadata": {},
   "outputs": [
    {
     "data": {
      "text/plain": [
       "\"<START> this film was just brilliant casting location scenery story direction everyone's really suited the part they played and you could just imagine being there robert <UNK> is an amazing actor and now the same being director <UNK> father came from the same scottish island as myself so i loved the fact there was a real connection with this film the witty remarks throughout the film were great it was just brilliant so much that i bought the film as soon as it was released for <UNK> and would recommend it to everyone to watch and the fly fishing was amazing really cried at the end it was so sad and you know what they say if you cry at a film it must have been good and this definitely was also <UNK> to the two little boy's that played the <UNK> of norman and paul they were just brilliant children are often left out of the <UNK> list i think because the stars that play them all grown up are such a big profile for the whole film but these children are amazing and should be praised for what they have done don't you think the whole story was so lovely because it was true and was someone's life after all that was shared with us all\""
      ]
     },
     "execution_count": 6,
     "metadata": {},
     "output_type": "execute_result"
    }
   ],
   "source": [
    "decode_review(train_data[0])"
   ]
  },
  {
   "cell_type": "code",
   "execution_count": 7,
   "metadata": {},
   "outputs": [],
   "source": [
    "train_data = keras.preprocessing.sequence.pad_sequences(train_data,\n",
    "                                                        value=word_index[\"<PAD>\"],\n",
    "                                                        padding='post',\n",
    "                                                        maxlen=256)\n",
    "\n",
    "test_data = keras.preprocessing.sequence.pad_sequences(test_data,\n",
    "                                                       value=word_index[\"<PAD>\"],\n",
    "                                                       padding='post',\n",
    "                                                       maxlen=256)"
   ]
  },
  {
   "cell_type": "code",
   "execution_count": 8,
   "metadata": {},
   "outputs": [
    {
     "name": "stdout",
     "output_type": "stream",
     "text": [
      "_________________________________________________________________\n",
      "Layer (type)                 Output Shape              Param #   \n",
      "=================================================================\n",
      "embedding (Embedding)        (None, None, 16)          160000    \n",
      "_________________________________________________________________\n",
      "global_average_pooling1d (Gl (None, 16)                0         \n",
      "_________________________________________________________________\n",
      "dense (Dense)                (None, 16)                272       \n",
      "_________________________________________________________________\n",
      "dense_1 (Dense)              (None, 1)                 17        \n",
      "=================================================================\n",
      "Total params: 160,289\n",
      "Trainable params: 160,289\n",
      "Non-trainable params: 0\n",
      "_________________________________________________________________\n"
     ]
    }
   ],
   "source": [
    "# input shape is the vocabulary count used for the movie reviews (10,000 words)\n",
    "vocab_size = 10000\n",
    "\n",
    "model = keras.Sequential()\n",
    "model.add(keras.layers.Embedding(vocab_size, 16))\n",
    "model.add(keras.layers.GlobalAveragePooling1D())\n",
    "model.add(keras.layers.Dense(16, activation=tf.nn.relu))\n",
    "model.add(keras.layers.Dense(1, activation=tf.nn.sigmoid))\n",
    "\n",
    "model.summary()"
   ]
  },
  {
   "cell_type": "code",
   "execution_count": 9,
   "metadata": {},
   "outputs": [],
   "source": [
    "model.compile(optimizer='adam',\n",
    "              loss='binary_crossentropy',\n",
    "              metrics=['accuracy'])\n"
   ]
  },
  {
   "cell_type": "code",
   "execution_count": 10,
   "metadata": {},
   "outputs": [],
   "source": [
    "x_val = train_data[:10000]\n",
    "partial_x_train = train_data[10000:]\n",
    "\n",
    "y_val = train_labels[:10000]\n",
    "partial_y_train = train_labels[10000:]\n"
   ]
  },
  {
   "cell_type": "code",
   "execution_count": 11,
   "metadata": {},
   "outputs": [
    {
     "name": "stderr",
     "output_type": "stream",
     "text": [
      "C:\\Users\\minht\\Anaconda3\\lib\\site-packages\\tensorflow\\python\\ops\\gradients_impl.py:108: UserWarning: Converting sparse IndexedSlices to a dense Tensor of unknown shape. This may consume a large amount of memory.\n",
      "  \"Converting sparse IndexedSlices to a dense Tensor of unknown shape. \"\n"
     ]
    },
    {
     "name": "stdout",
     "output_type": "stream",
     "text": [
      "Train on 15000 samples, validate on 10000 samples\n",
      "Epoch 1/40\n",
      "15000/15000 [==============================] - 2s 125us/step - loss: 0.7322 - acc: 0.4979 - val_loss: 0.6939 - val_acc: 0.5183\n",
      "Epoch 2/40\n",
      "15000/15000 [==============================] - 1s 82us/step - loss: 0.6919 - acc: 0.5168 - val_loss: 0.6912 - val_acc: 0.5270\n",
      "Epoch 3/40\n",
      "15000/15000 [==============================] - 1s 89us/step - loss: 0.6892 - acc: 0.5326 - val_loss: 0.6885 - val_acc: 0.5377\n",
      "Epoch 4/40\n",
      "15000/15000 [==============================] - 1s 91us/step - loss: 0.6868 - acc: 0.5482 - val_loss: 0.6864 - val_acc: 0.5606\n",
      "Epoch 5/40\n",
      "15000/15000 [==============================] - 2s 114us/step - loss: 0.6843 - acc: 0.5769 - val_loss: 0.6841 - val_acc: 0.5891\n",
      "Epoch 6/40\n",
      "15000/15000 [==============================] - 1s 95us/step - loss: 0.6816 - acc: 0.6228 - val_loss: 0.6814 - val_acc: 0.6376\n",
      "Epoch 7/40\n",
      "15000/15000 [==============================] - 1s 84us/step - loss: 0.6786 - acc: 0.6694 - val_loss: 0.6785 - val_acc: 0.6491\n",
      "Epoch 8/40\n",
      "15000/15000 [==============================] - 1s 88us/step - loss: 0.6750 - acc: 0.6926 - val_loss: 0.6748 - val_acc: 0.6925\n",
      "Epoch 9/40\n",
      "15000/15000 [==============================] - 1s 94us/step - loss: 0.6706 - acc: 0.7219 - val_loss: 0.6705 - val_acc: 0.7027\n",
      "Epoch 10/40\n",
      "15000/15000 [==============================] - 2s 117us/step - loss: 0.6651 - acc: 0.7400 - val_loss: 0.6647 - val_acc: 0.7372\n",
      "Epoch 11/40\n",
      "15000/15000 [==============================] - 1s 96us/step - loss: 0.6585 - acc: 0.7470 - val_loss: 0.6576 - val_acc: 0.7453\n",
      "Epoch 12/40\n",
      "15000/15000 [==============================] - 2s 101us/step - loss: 0.6496 - acc: 0.7621 - val_loss: 0.6488 - val_acc: 0.7476\n",
      "Epoch 13/40\n",
      "15000/15000 [==============================] - 2s 127us/step - loss: 0.6386 - acc: 0.7688 - val_loss: 0.6390 - val_acc: 0.7339\n",
      "Epoch 14/40\n",
      "15000/15000 [==============================] - 2s 104us/step - loss: 0.6253 - acc: 0.7778 - val_loss: 0.6245 - val_acc: 0.7582\n",
      "Epoch 15/40\n",
      "15000/15000 [==============================] - 2s 122us/step - loss: 0.6087 - acc: 0.7849 - val_loss: 0.6078 - val_acc: 0.7679\n",
      "Epoch 16/40\n",
      "15000/15000 [==============================] - 2s 127us/step - loss: 0.5896 - acc: 0.7893 - val_loss: 0.5893 - val_acc: 0.7770\n",
      "Epoch 17/40\n",
      "15000/15000 [==============================] - 2s 111us/step - loss: 0.5678 - acc: 0.8005 - val_loss: 0.5692 - val_acc: 0.7844\n",
      "Epoch 18/40\n",
      "15000/15000 [==============================] - 2s 113us/step - loss: 0.5442 - acc: 0.8105 - val_loss: 0.5463 - val_acc: 0.7937\n",
      "Epoch 19/40\n",
      "15000/15000 [==============================] - 2s 116us/step - loss: 0.5184 - acc: 0.8181 - val_loss: 0.5226 - val_acc: 0.8034\n",
      "Epoch 20/40\n",
      "15000/15000 [==============================] - 1s 86us/step - loss: 0.4921 - acc: 0.8294 - val_loss: 0.4986 - val_acc: 0.8123\n",
      "Epoch 21/40\n",
      "15000/15000 [==============================] - 1s 85us/step - loss: 0.4642 - acc: 0.8393 - val_loss: 0.4725 - val_acc: 0.8246\n",
      "Epoch 22/40\n",
      "15000/15000 [==============================] - 1s 89us/step - loss: 0.4364 - acc: 0.8505 - val_loss: 0.4493 - val_acc: 0.8322\n",
      "Epoch 23/40\n",
      "15000/15000 [==============================] - 1s 95us/step - loss: 0.4116 - acc: 0.8585 - val_loss: 0.4285 - val_acc: 0.8383\n",
      "Epoch 24/40\n",
      "15000/15000 [==============================] - 1s 89us/step - loss: 0.3887 - acc: 0.8673 - val_loss: 0.4098 - val_acc: 0.8447\n",
      "Epoch 25/40\n",
      "15000/15000 [==============================] - 1s 90us/step - loss: 0.3685 - acc: 0.8745 - val_loss: 0.3937 - val_acc: 0.8505\n",
      "Epoch 26/40\n",
      "15000/15000 [==============================] - 1s 95us/step - loss: 0.3506 - acc: 0.8805 - val_loss: 0.3798 - val_acc: 0.8540\n",
      "Epoch 27/40\n",
      "15000/15000 [==============================] - 1s 87us/step - loss: 0.3348 - acc: 0.8851 - val_loss: 0.3676 - val_acc: 0.8586\n",
      "Epoch 28/40\n",
      "15000/15000 [==============================] - 1s 94us/step - loss: 0.3205 - acc: 0.8883 - val_loss: 0.3573 - val_acc: 0.8608\n",
      "Epoch 29/40\n",
      "15000/15000 [==============================] - 1s 95us/step - loss: 0.3081 - acc: 0.8921 - val_loss: 0.3489 - val_acc: 0.8633\n",
      "Epoch 30/40\n",
      "15000/15000 [==============================] - 1s 91us/step - loss: 0.2975 - acc: 0.8934 - val_loss: 0.3410 - val_acc: 0.8668\n",
      "Epoch 31/40\n",
      "15000/15000 [==============================] - 1s 85us/step - loss: 0.2867 - acc: 0.8977 - val_loss: 0.3346 - val_acc: 0.8694\n",
      "Epoch 32/40\n",
      "15000/15000 [==============================] - 1s 85us/step - loss: 0.2780 - acc: 0.9009 - val_loss: 0.3289 - val_acc: 0.8713\n",
      "Epoch 33/40\n",
      "15000/15000 [==============================] - 1s 99us/step - loss: 0.2689 - acc: 0.9044 - val_loss: 0.3240 - val_acc: 0.8726\n",
      "Epoch 34/40\n",
      "15000/15000 [==============================] - 1s 86us/step - loss: 0.2610 - acc: 0.9067 - val_loss: 0.3195 - val_acc: 0.8751\n",
      "Epoch 35/40\n",
      "15000/15000 [==============================] - 1s 86us/step - loss: 0.2540 - acc: 0.9084 - val_loss: 0.3154 - val_acc: 0.8758\n",
      "Epoch 36/40\n",
      "15000/15000 [==============================] - 1s 89us/step - loss: 0.2465 - acc: 0.9121 - val_loss: 0.3120 - val_acc: 0.8768\n",
      "Epoch 37/40\n",
      "15000/15000 [==============================] - 1s 91us/step - loss: 0.2400 - acc: 0.9147 - val_loss: 0.3093 - val_acc: 0.8759\n",
      "Epoch 38/40\n",
      "15000/15000 [==============================] - 1s 87us/step - loss: 0.2338 - acc: 0.9163 - val_loss: 0.3057 - val_acc: 0.8772\n",
      "Epoch 39/40\n",
      "15000/15000 [==============================] - 1s 89us/step - loss: 0.2276 - acc: 0.9185 - val_loss: 0.3032 - val_acc: 0.8782\n",
      "Epoch 40/40\n",
      "15000/15000 [==============================] - 1s 93us/step - loss: 0.2219 - acc: 0.9206 - val_loss: 0.3007 - val_acc: 0.8798\n"
     ]
    }
   ],
   "source": [
    "history = model.fit(partial_x_train,\n",
    "                    partial_y_train,\n",
    "                    epochs=40,\n",
    "                    batch_size=512,\n",
    "                    validation_data=(x_val, y_val),\n",
    "                    verbose=1)"
   ]
  },
  {
   "cell_type": "code",
   "execution_count": 12,
   "metadata": {},
   "outputs": [
    {
     "name": "stdout",
     "output_type": "stream",
     "text": [
      "25000/25000 [==============================] - 1s 40us/step\n",
      "[0.31278384873390197, 0.86968000000000001]\n"
     ]
    }
   ],
   "source": [
    "results = model.evaluate(test_data, test_labels)\n",
    "\n",
    "print(results)"
   ]
  },
  {
   "cell_type": "code",
   "execution_count": 15,
   "metadata": {},
   "outputs": [
    {
     "data": {
      "text/plain": [
       "dict_keys(['val_loss', 'val_acc', 'loss', 'acc'])"
      ]
     },
     "execution_count": 15,
     "metadata": {},
     "output_type": "execute_result"
    }
   ],
   "source": [
    "history_dict = history.history\n",
    "history_dict.keys()"
   ]
  },
  {
   "cell_type": "code",
   "execution_count": 16,
   "metadata": {},
   "outputs": [
    {
     "data": {
      "text/plain": [
       "<Figure size 640x480 with 1 Axes>"
      ]
     },
     "metadata": {},
     "output_type": "display_data"
    }
   ],
   "source": [
    "import matplotlib.pyplot as plt\n",
    "\n",
    "acc = history_dict['acc']\n",
    "val_acc = history_dict['val_acc']\n",
    "loss = history_dict['loss']\n",
    "val_loss = history_dict['val_loss']\n",
    "\n",
    "epochs = range(1, len(acc) + 1)\n",
    "\n",
    "# \"bo\" is for \"blue dot\"\n",
    "plt.plot(epochs, loss, 'bo', label='Training loss')\n",
    "# b is for \"solid blue line\"\n",
    "plt.plot(epochs, val_loss, 'b', label='Validation loss')\n",
    "plt.title('Training and validation loss')\n",
    "plt.xlabel('Epochs')\n",
    "plt.ylabel('Loss')\n",
    "plt.legend()\n",
    "\n",
    "plt.show()"
   ]
  },
  {
   "cell_type": "code",
   "execution_count": 17,
   "metadata": {},
   "outputs": [
    {
     "data": {
      "image/png": "[encoded data removed]",
      "text/plain": [
       "<Figure size 432x288 with 1 Axes>"
      ]
     },
     "metadata": {},
     "output_type": "display_data"
    }
   ],
   "source": [
    "plt.clf()   # clear figure\n",
    "\n",
    "plt.plot(epochs, acc, 'bo', label='Training acc')\n",
    "plt.plot(epochs, val_acc, 'b', label='Validation acc')\n",
    "plt.title('Training and validation accuracy')\n",
    "plt.xlabel('Epochs')\n",
    "plt.ylabel('Accuracy')\n",
    "plt.legend()\n",
    "\n",
    "plt.show()"
   ]
  },
  {
   "cell_type": "code",
   "execution_count": null,
   "metadata": {},
   "outputs": [],
   "source": []
  }
 ],
 "metadata": {
  "kernelspec": {
   "display_name": "Python 3",
   "language": "python",
   "name": "python3"
  },
  "language_info": {
   "codemirror_mode": {
    "name": "ipython",
    "version": 3
   },
   "file_extension": ".py",
   "mimetype": "text/x-python",
   "name": "python",
   "nbconvert_exporter": "python",
   "pygments_lexer": "ipython3",
   "version": "3.6.5"
  }
 },
 "nbformat": 4,
 "nbformat_minor": 2
}
